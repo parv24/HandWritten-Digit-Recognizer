{
  "nbformat": 4,
  "nbformat_minor": 0,
  "metadata": {
    "colab": {
      "name": "CNN_MNIST.ipynb",
      "version": "0.3.2",
      "provenance": [],
      "collapsed_sections": []
    },
    "kernelspec": {
      "name": "python3",
      "display_name": "Python 3"
    }
  },
  "cells": [
    {
      "cell_type": "code",
      "metadata": {
        "id": "iodsJdNl0ji1",
        "colab_type": "code",
        "colab": {}
      },
      "source": [
        "import tensorflow as tf"
      ],
      "execution_count": 0,
      "outputs": []
    },
    {
      "cell_type": "code",
      "metadata": {
        "id": "kk_OqqOF0zD-",
        "colab_type": "code",
        "outputId": "5898f1b7-bd5c-4a0e-fffb-596d5ee3187c",
        "colab": {
          "base_uri": "https://localhost:8080/",
          "height": 547
        }
      },
      "source": [
        "from tensorflow.examples.tutorials.mnist import input_data\n",
        "mnist=input_data.read_data_sets('MNIST_data/',one_hot=True)"
      ],
      "execution_count": 0,
      "outputs": [
        {
          "output_type": "stream",
          "text": [
            "WARNING: Logging before flag parsing goes to stderr.\n",
            "W0621 13:31:47.708947 139991703807872 deprecation.py:323] From <ipython-input-2-bc596981f0bb>:2: read_data_sets (from tensorflow.contrib.learn.python.learn.datasets.mnist) is deprecated and will be removed in a future version.\n",
            "Instructions for updating:\n",
            "Please use alternatives such as official/mnist/dataset.py from tensorflow/models.\n",
            "W0621 13:31:47.710846 139991703807872 deprecation.py:323] From /usr/local/lib/python3.6/dist-packages/tensorflow/contrib/learn/python/learn/datasets/mnist.py:260: maybe_download (from tensorflow.contrib.learn.python.learn.datasets.base) is deprecated and will be removed in a future version.\n",
            "Instructions for updating:\n",
            "Please write your own downloading logic.\n",
            "W0621 13:31:47.720502 139991703807872 deprecation.py:323] From /usr/local/lib/python3.6/dist-packages/tensorflow/contrib/learn/python/learn/datasets/base.py:252: _internal_retry.<locals>.wrap.<locals>.wrapped_fn (from tensorflow.contrib.learn.python.learn.datasets.base) is deprecated and will be removed in a future version.\n",
            "Instructions for updating:\n",
            "Please use urllib or similar directly.\n",
            "W0621 13:31:48.180349 139991703807872 deprecation.py:323] From /usr/local/lib/python3.6/dist-packages/tensorflow/contrib/learn/python/learn/datasets/mnist.py:262: extract_images (from tensorflow.contrib.learn.python.learn.datasets.mnist) is deprecated and will be removed in a future version.\n",
            "Instructions for updating:\n",
            "Please use tf.data to implement this functionality.\n"
          ],
          "name": "stderr"
        },
        {
          "output_type": "stream",
          "text": [
            "Successfully downloaded train-images-idx3-ubyte.gz 9912422 bytes.\n",
            "Extracting MNIST_data/train-images-idx3-ubyte.gz\n"
          ],
          "name": "stdout"
        },
        {
          "output_type": "stream",
          "text": [
            "W0621 13:31:48.578953 139991703807872 deprecation.py:323] From /usr/local/lib/python3.6/dist-packages/tensorflow/contrib/learn/python/learn/datasets/mnist.py:267: extract_labels (from tensorflow.contrib.learn.python.learn.datasets.mnist) is deprecated and will be removed in a future version.\n",
            "Instructions for updating:\n",
            "Please use tf.data to implement this functionality.\n",
            "W0621 13:31:48.581532 139991703807872 deprecation.py:323] From /usr/local/lib/python3.6/dist-packages/tensorflow/contrib/learn/python/learn/datasets/mnist.py:110: dense_to_one_hot (from tensorflow.contrib.learn.python.learn.datasets.mnist) is deprecated and will be removed in a future version.\n",
            "Instructions for updating:\n",
            "Please use tf.one_hot on tensors.\n"
          ],
          "name": "stderr"
        },
        {
          "output_type": "stream",
          "text": [
            "Successfully downloaded train-labels-idx1-ubyte.gz 28881 bytes.\n",
            "Extracting MNIST_data/train-labels-idx1-ubyte.gz\n",
            "Successfully downloaded t10k-images-idx3-ubyte.gz 1648877 bytes.\n",
            "Extracting MNIST_data/t10k-images-idx3-ubyte.gz\n"
          ],
          "name": "stdout"
        },
        {
          "output_type": "stream",
          "text": [
            "W0621 13:31:48.922796 139991703807872 deprecation.py:323] From /usr/local/lib/python3.6/dist-packages/tensorflow/contrib/learn/python/learn/datasets/mnist.py:290: DataSet.__init__ (from tensorflow.contrib.learn.python.learn.datasets.mnist) is deprecated and will be removed in a future version.\n",
            "Instructions for updating:\n",
            "Please use alternatives such as official/mnist/dataset.py from tensorflow/models.\n"
          ],
          "name": "stderr"
        },
        {
          "output_type": "stream",
          "text": [
            "Successfully downloaded t10k-labels-idx1-ubyte.gz 4542 bytes.\n",
            "Extracting MNIST_data/t10k-labels-idx1-ubyte.gz\n"
          ],
          "name": "stdout"
        }
      ]
    },
    {
      "cell_type": "code",
      "metadata": {
        "id": "XPUf9zCw1R4T",
        "colab_type": "code",
        "colab": {}
      },
      "source": [
        "ip_wdth=28\n",
        "ip_ht=28\n",
        "ip_channels=1\n",
        "ip_pixels=784\n",
        "\n",
        "n_cn1=32\n",
        "n_cn2=64\n",
        "\n",
        "s_cn1=1   #stride\n",
        "s_cn2=1\n",
        "\n",
        "k_cn1=5\n",
        "k_cn2=5\n",
        "k_max_pool1=2\n",
        "k_max_pool2=2\n",
        "\n",
        "n_hid=1024\n",
        "n_out=10\n",
        "\n",
        "ip_size_to_hidden=(ip_wdth//(k_max_pool1*k_max_pool2))*(ip_ht//(k_max_pool1*k_max_pool2))*n_cn2"
      ],
      "execution_count": 0,
      "outputs": []
    },
    {
      "cell_type": "code",
      "metadata": {
        "id": "Z1i07zej2IuK",
        "colab_type": "code",
        "colab": {}
      },
      "source": [
        "wts={\n",
        "    'wc1':tf.Variable(tf.random_normal([k_cn1,k_cn1,ip_channels,n_cn1])),\n",
        "    'wc2':tf.Variable(tf.random_normal([k_cn2,k_cn2,n_cn1,n_cn2])),\n",
        "    'wh1':tf.Variable(tf.random_normal([ip_size_to_hidden,n_hid])),\n",
        "    'out':tf.Variable(tf.random_normal([n_hid,n_out]))\n",
        " }\n",
        "bias={\n",
        "    'bc1':tf.Variable(tf.random_normal([n_cn1])),\n",
        "    'bc2':tf.Variable(tf.random_normal([n_cn2])),\n",
        "    'bh1':tf.Variable(tf.random_normal([n_hid])),\n",
        "    'bout':tf.Variable(tf.random_normal([n_out]))\n",
        "\n",
        "}"
      ],
      "execution_count": 0,
      "outputs": []
    },
    {
      "cell_type": "code",
      "metadata": {
        "id": "9wLzjfXG5mIe",
        "colab_type": "code",
        "colab": {}
      },
      "source": [
        "def conv(x,wt,bias,strides=1):\n",
        "  out=tf.nn.conv2d(x,wt,padding='SAME',strides=[1,strides,strides,1])\n",
        "  \n",
        "  #strides=[1,strides,strides,1]\n",
        "  #the strides require a list whose shape should be [no. of images,height,width,no. of channels]\n",
        "  #we keep no. of images to be 1 because we want to apply filter on each image individually \n",
        "  #we don't want to move our filter along the depth so no. of channels s also kept to be 1\n",
        "  \n",
        "  out=tf.nn.bias_add(out,bias)\n",
        "  out=tf.nn.relu(out)\n",
        "  return out\n",
        "\n",
        "\n",
        "def maxpooling(x,k=2):\n",
        "  return tf.nn.max_pool(x,padding='SAME',ksize=[1,k,k,1],strides=[1,k,k,1])\n"
      ],
      "execution_count": 0,
      "outputs": []
    },
    {
      "cell_type": "code",
      "metadata": {
        "id": "tSeExD8x1KXz",
        "colab_type": "code",
        "colab": {}
      },
      "source": [
        "def cnn(x,wts,bias):\n",
        "  \n",
        "  x=tf.reshape(x,shape=[-1,ip_ht,ip_wdth,ip_channels])\n",
        "  \n",
        "  out_cn1=conv(x,wts['wc1'],bias['bc1'],s_cn1)\n",
        "  cn1_pool=maxpooling(out_cn1,k_max_pool1)\n",
        "  \n",
        "  out_cn2=conv(cn1_pool,wts['wc2'],bias['bc2'],s_cn2)\n",
        "  cn2_pool=maxpooling(out_cn2,k_max_pool2)\n",
        "  \n",
        "  ip_hidden=tf.reshape(cn2_pool,shape=[-1,ip_size_to_hidden])\n",
        "  op_hidden_before_activation=tf.add(tf.matmul(ip_hidden,wts['wh1']),bias['bh1'])\n",
        "  op_hidden=tf.nn.relu(op_hidden_before_activation)\n",
        "  \n",
        "  output_final=tf.add(tf.matmul(op_hidden,wts['out']),bias['bout'])\n",
        "  \n",
        "  return output_final"
      ],
      "execution_count": 0,
      "outputs": []
    },
    {
      "cell_type": "code",
      "metadata": {
        "id": "9YbBakAJ4457",
        "colab_type": "code",
        "colab": {}
      },
      "source": [
        "x=tf.placeholder('float',[None,ip_pixels])\n",
        "y=tf.placeholder(tf.int32,[None,n_out])\n",
        "pred=cnn(x,wts,bias)"
      ],
      "execution_count": 0,
      "outputs": []
    },
    {
      "cell_type": "code",
      "metadata": {
        "id": "W1Qe9geP5ViH",
        "colab_type": "code",
        "colab": {}
      },
      "source": [
        "cost=tf.reduce_mean(tf.nn.softmax_cross_entropy_with_logits_v2(logits=pred,labels=y))"
      ],
      "execution_count": 0,
      "outputs": []
    },
    {
      "cell_type": "code",
      "metadata": {
        "id": "T9Du8TiQ5nhZ",
        "colab_type": "code",
        "colab": {}
      },
      "source": [
        "optimizer=tf.train.AdamOptimizer(learning_rate=0.01)\n",
        "optimize=optimizer.minimize(cost)"
      ],
      "execution_count": 0,
      "outputs": []
    },
    {
      "cell_type": "code",
      "metadata": {
        "id": "w-3mHaHO5sk3",
        "colab_type": "code",
        "colab": {}
      },
      "source": [
        "sess=tf.Session()\n",
        "sess.run(tf.global_variables_initializer())"
      ],
      "execution_count": 0,
      "outputs": []
    },
    {
      "cell_type": "code",
      "metadata": {
        "id": "NP3KdqfZ5xKy",
        "colab_type": "code",
        "outputId": "ec95f37d-33c2-4dd8-b6be-e46345df65c1",
        "colab": {
          "base_uri": "https://localhost:8080/",
          "height": 34
        }
      },
      "source": [
        "batch_size=100\n",
        "for i in range(25):\n",
        "    num_batches=int(mnist.train.num_examples/batch_size)\n",
        "    total_cost=0\n",
        "    for j in range(num_batches):\n",
        "        batch_x,batch_y=mnist.train.next_batch(batch_size)\n",
        "        c,_=sess.run([cost,optimize],feed_dict={x:batch_x,y:batch_y})\n",
        "        total_cost+=c\n",
        "    print(total_cost)\n",
        "   "
      ],
      "execution_count": 0,
      "outputs": [
        {
          "output_type": "stream",
          "text": [
            "959072.2891408205\n"
          ],
          "name": "stdout"
        }
      ]
    },
    {
      "cell_type": "code",
      "metadata": {
        "id": "YSeMF0GO56-A",
        "colab_type": "code",
        "colab": {}
      },
      "source": [
        "predictions=tf.argmax(pred,1)\n",
        "true_labels=tf.argmax(y,1)\n",
        "correct_predictions=tf.equal(predictions,true_labels)\n",
        "predictions,correct_predictions=sess.run([predictions,correct_predictions],feed_dict={x:mnist.test.images,y:mnist.test.labels})"
      ],
      "execution_count": 0,
      "outputs": []
    },
    {
      "cell_type": "code",
      "metadata": {
        "id": "6qPVKTjo6DTu",
        "colab_type": "code",
        "outputId": "2fd778e3-0d20-45df-acc7-822064dcaaa0",
        "colab": {
          "base_uri": "https://localhost:8080/",
          "height": 34
        }
      },
      "source": [
        "correct_predictions.sum()"
      ],
      "execution_count": 0,
      "outputs": [
        {
          "output_type": "execute_result",
          "data": {
            "text/plain": [
              "9862"
            ]
          },
          "metadata": {
            "tags": []
          },
          "execution_count": 13
        }
      ]
    }
  ]
}